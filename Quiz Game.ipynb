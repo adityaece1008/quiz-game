{
 "cells": [
  {
   "cell_type": "code",
   "execution_count": null,
   "id": "98c2fae3",
   "metadata": {},
   "outputs": [
    {
     "name": "stdout",
     "output_type": "stream",
     "text": [
      "welcome to quiz game\n"
     ]
    }
   ],
   "source": [
    "print(\"welcome to quiz game\")\n",
    "want_to_play = input(\"do u want to play : \")\n",
    "print(want_to_play.lower())\n",
    "result = 0\n",
    "total = 0\n",
    "count = 0\n",
    "score = 0\n",
    "\n",
    "if want_to_play.lower() != \"yes\":\n",
    "    quit()\n",
    "else:\n",
    "    print(\"answer the given questions\")\n",
    "\n",
    "\n",
    "answer = input(\"cpu stands for ? \")\n",
    "while result <= 3 :\n",
    "    if answer.lower() == \"central processing unit\":\n",
    "        print(\"correct\")\n",
    "        score += 1\n",
    "    else:\n",
    "        result += 1\n",
    "        print(\"incorrect\")\n",
    "\n",
    "\n",
    "answer = input(\"pmo stands for ? \")\n",
    "while total <= 3 :\n",
    "    if  answer.lower() == \"prime minister of india\":\n",
    "        print(\"correct\")\n",
    "        score += 1\n",
    "    else:\n",
    "        total += 1\n",
    "        print(\"incorrect\")\n",
    "        \n",
    "\n",
    "\n",
    "answer = input(\"cm stands for ? \")\n",
    "while total <= 3 :\n",
    "    if  answer.lower() == \"chief minister\":\n",
    "        print(\"correct\")\n",
    "        score += 1\n",
    "    else:\n",
    "        total += 1\n",
    "        print(\"incorrect\")        \n",
    "        \n",
    "print('your score ' + str(score))\n",
    "print('your score percentage is ' + str((score/3)*100))"
   ]
  },
  {
   "cell_type": "code",
   "execution_count": null,
   "id": "98fa56da",
   "metadata": {},
   "outputs": [],
   "source": []
  },
  {
   "cell_type": "code",
   "execution_count": null,
   "id": "09c8d3db",
   "metadata": {},
   "outputs": [],
   "source": []
  }
 ],
 "metadata": {
  "kernelspec": {
   "display_name": "Python 3 (ipykernel)",
   "language": "python",
   "name": "python3"
  },
  "language_info": {
   "codemirror_mode": {
    "name": "ipython",
    "version": 3
   },
   "file_extension": ".py",
   "mimetype": "text/x-python",
   "name": "python",
   "nbconvert_exporter": "python",
   "pygments_lexer": "ipython3",
   "version": "3.9.12"
  }
 },
 "nbformat": 4,
 "nbformat_minor": 5
}
